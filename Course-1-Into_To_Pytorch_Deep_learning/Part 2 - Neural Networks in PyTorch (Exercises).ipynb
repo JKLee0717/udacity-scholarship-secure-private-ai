{
 "cells": [
  {
   "cell_type": "markdown",
   "metadata": {},
   "source": [
    "# Neural networks with PyTorch\n",
    "\n",
    "Deep learning networks tend to be massive with dozens or hundreds of layers, that's where the term \"deep\" comes from. You can build one of these deep networks using only weight matrices as we did in the previous notebook, but in general it's very cumbersome and difficult to implement. PyTorch has a nice module `nn` that provides a nice way to efficiently build large neural networks."
   ]
  },
  {
   "cell_type": "code",
   "execution_count": 1,
   "metadata": {},
   "outputs": [],
   "source": [
    "# Import necessary packages\n",
    "\n",
    "%matplotlib inline\n",
    "%config InlineBackend.figure_format = 'retina'\n",
    "\n",
    "import numpy as np\n",
    "import torch\n",
    "\n",
    "import helper\n",
    "\n",
    "import matplotlib.pyplot as plt"
   ]
  },
  {
   "cell_type": "markdown",
   "metadata": {},
   "source": [
    "\n",
    "Now we're going to build a larger network that can solve a (formerly) difficult problem, identifying text in an image. Here we'll use the MNIST dataset which consists of greyscale handwritten digits. Each image is 28x28 pixels, you can see a sample below\n",
    "\n",
    "<img src='assets/mnist.png'>\n",
    "\n",
    "Our goal is to build a neural network that can take one of these images and predict the digit in the image.\n",
    "\n",
    "First up, we need to get our dataset. This is provided through the `torchvision` package. The code below will download the MNIST dataset, then create training and test datasets for us. Don't worry too much about the details here, you'll learn more about this later."
   ]
  },
  {
   "cell_type": "code",
   "execution_count": 2,
   "metadata": {},
   "outputs": [],
   "source": [
    "### Run this cell\n",
    "\n",
    "from torchvision import datasets, transforms\n",
    "\n",
    "# Define a transform to normalize the data\n",
    "transform = transforms.Compose([transforms.ToTensor(),\n",
    "                              transforms.Normalize((0.5,), (0.5,)),\n",
    "                              ])\n",
    "\n",
    "# Download and load the training data\n",
    "trainset = datasets.MNIST('~/.pytorch/MNIST_data/', download=True, train=True, transform=transform)\n",
    "trainloader = torch.utils.data.DataLoader(trainset, batch_size=64, shuffle=True)"
   ]
  },
  {
   "cell_type": "markdown",
   "metadata": {},
   "source": [
    "We have the training data loaded into `trainloader` and we make that an iterator with `iter(trainloader)`. Later, we'll use this to loop through the dataset for training, like\n",
    "\n",
    "```python\n",
    "for image, label in trainloader:\n",
    "    ## do things with images and labels\n",
    "```\n",
    "\n",
    "You'll notice I created the `trainloader` with a batch size of 64, and `shuffle=True`. The batch size is the number of images we get in one iteration from the data loader and pass through our network, often called a *batch*. And `shuffle=True` tells it to shuffle the dataset every time we start going through the data loader again. But here I'm just grabbing the first batch so we can check out the data. We can see below that `images` is just a tensor with size `(64, 1, 28, 28)`. So, 64 images per batch, 1 color channel, and 28x28 images."
   ]
  },
  {
   "cell_type": "code",
   "execution_count": 3,
   "metadata": {},
   "outputs": [
    {
     "name": "stdout",
     "output_type": "stream",
     "text": [
      "<class 'torch.Tensor'>\n",
      "torch.Size([64, 1, 28, 28])\n",
      "torch.Size([64])\n"
     ]
    }
   ],
   "source": [
    "dataiter = iter(trainloader)\n",
    "images, labels = dataiter.next()\n",
    "print(type(images))\n",
    "print(images.shape)\n",
    "print(labels.shape)"
   ]
  },
  {
   "cell_type": "markdown",
   "metadata": {},
   "source": [
    "This is what one of the images looks like. "
   ]
  },
  {
   "cell_type": "code",
   "execution_count": 4,
   "metadata": {},
   "outputs": [
    {
     "data": {
      "image/png": "[encoded data removed]",
      "text/plain": [
       "<matplotlib.figure.Figure at 0x7ffb711ea198>"
      ]
     },
     "metadata": {
      "image/png": {
       "height": 250,
       "width": 253
      },
      "needs_background": "light"
     },
     "output_type": "display_data"
    }
   ],
   "source": [
    "plt.imshow(images[1].numpy().squeeze(), cmap='Greys_r');"
   ]
  },
  {
   "cell_type": "markdown",
   "metadata": {},
   "source": [
    "First, let's try to build a simple network for this dataset using weight matrices and matrix multiplications. Then, we'll see how to do it using PyTorch's `nn` module which provides a much more convenient and powerful method for defining network architectures.\n",
    "\n",
    "The networks you've seen so far are called *fully-connected* or *dense* networks. Each unit in one layer is connected to each unit in the next layer. In fully-connected networks, the input to each layer must be a one-dimensional vector (which can be stacked into a 2D tensor as a batch of multiple examples). However, our images are 28x28 2D tensors, so we need to convert them into 1D vectors. Thinking about sizes, we need to convert the batch of images with shape `(64, 1, 28, 28)` to a have a shape of `(64, 784)`, 784 is 28 times 28. This is typically called *flattening*, we flattened the 2D images into 1D vectors.\n",
    "\n",
    "Previously you built a network with one output unit. Here we need 10 output units, one for each digit. We want our network to predict the digit shown in an image, so what we'll do is calculate probabilities that the image is of any one digit or class. This ends up being a discrete probability distribution over the classes (digits) that tells us the most likely class for the image. That means we need 10 output units for the 10 classes (digits). We'll see how to convert the network output into a probability distribution next.\n",
    "\n",
    "> **Exercise:** Flatten the batch of images `images`. Then build a multi-layer network with 784 input units, 256 hidden units, and 10 output units using random tensors for the weights and biases. For now, use a sigmoid activation for the hidden layer. Leave the output layer without an activation, we'll add one that gives us a probability distribution next."
   ]
  },
  {
   "cell_type": "code",
   "execution_count": 61,
   "metadata": {},
   "outputs": [
    {
     "name": "stdout",
     "output_type": "stream",
     "text": [
      "tensor([[-14.1168,  -2.6228,  -6.1443,   1.8524, -13.4385,   3.9387,\n",
      "           0.2934,  16.2391,  -2.9550,  -4.9061],\n",
      "        [-12.8348,   1.4862,  -6.4684,  -4.6435,  -8.5882,  11.0020,\n",
      "           3.2016,  14.0627,  -8.8055,  -2.4101],\n",
      "        [-10.0379,   6.1092,  -1.1366,  -5.5431, -12.4573,  16.3341,\n",
      "           7.9560,  16.2669,  -8.5447,  -1.4750],\n",
      "        [ -3.9803,   3.6950,  -7.6514,   4.7948, -17.6613,   4.1257,\n",
      "           0.7261,   6.2010,   6.1544,  -0.6808],\n",
      "        [ -8.5210,  10.0037, -10.7751,  -3.7949,  -4.3925,  13.1654,\n",
      "           8.9309,  10.0452,  -3.2373,  -1.5812],\n",
      "        [-13.4828,   9.4532,  -3.3819,   7.1124,  -7.5698,   9.3265,\n",
      "          10.5880,  11.4551,   0.6967,  -8.3251],\n",
      "        [-20.3071,  13.3643,  -6.4829,  -1.3409,  -8.7759,  13.0133,\n",
      "           6.9754,  14.4608,   2.3491, -11.2894],\n",
      "        [-13.6362,   4.9574,  -5.2975,  -2.9697, -12.5539,  17.7126,\n",
      "           4.3441,  14.4050,  -4.4148,  -5.7814],\n",
      "        [-11.3473,  -0.7058,  -9.4242,  -1.2143,  -9.5829,   0.9459,\n",
      "          -3.0349,   9.0019,  -4.8598,  -6.7406],\n",
      "        [-20.4584, -14.3384,  -0.4417,   3.4704, -12.1716,  -3.1656,\n",
      "           4.0029,   2.6061, -16.3565, -19.3157],\n",
      "        [-13.6016,  -4.5592,  -6.6932,  -1.0990, -15.2365,   4.1905,\n",
      "           0.9840,  20.8765,  -2.6379,  -4.1384],\n",
      "        [ -4.9017,   2.8551,  -1.3052,  -1.4445,  -8.4639,  10.4311,\n",
      "           0.8896,  12.2215,   0.5257, -11.6383],\n",
      "        [-12.6608,   1.6089,  -3.1295,  -5.3741, -10.0687,  11.2479,\n",
      "           0.3876,  14.8040,  -4.8326,  -4.1482],\n",
      "        [-15.5155,   0.4068,  -7.1649,   1.8722, -12.8436,  10.8000,\n",
      "          -2.3570,  11.0089,  -3.9328, -15.2213],\n",
      "        [-10.0073,  -3.5790, -15.7965,  -5.6478,  -4.0639,   7.2468,\n",
      "          -1.6384,   6.6478, -16.1359,  -4.8713],\n",
      "        [-10.6382,   7.0263,  -5.6652,   2.2395,  -8.5614,  15.7810,\n",
      "          -8.8668,  20.6697,  -3.7783,   0.2694],\n",
      "        [-22.8766,   2.8564,  -3.6107,   5.5678,  -9.8854,  12.5177,\n",
      "           5.7806,  19.1611,  -3.5384,  -1.1861],\n",
      "        [ -6.0016,   6.7779,  -6.4473,  -5.4229,  -0.0079,  11.7131,\n",
      "           3.2313,   9.8579,  -0.5771,  -8.4752],\n",
      "        [-17.3487,   7.1833,   4.2180,  -3.1880, -20.8724,  14.3090,\n",
      "          10.4768,  11.5772,  -6.2201, -12.6641],\n",
      "        [ -8.3028,  10.0068,   0.6336,  -3.7081,  -1.5004,   5.7796,\n",
      "           5.4652,   2.6917,  -8.2599,  -7.4191],\n",
      "        [ -9.4940,  -0.6489,  -9.7832,   3.8648,  -9.7030,   8.1012,\n",
      "           2.3601,  11.3093,   8.0800,  -4.0099],\n",
      "        [-24.2137,   0.7057,   4.0067,   1.7350, -10.8843,  -6.0072,\n",
      "           0.1347,   9.2111,   1.7141, -10.7058],\n",
      "        [-16.8627,  -0.3644,   4.7247,   1.2453, -17.4568,   4.0708,\n",
      "           7.4907,  15.3660,  -4.1151,  -0.0912],\n",
      "        [ -8.0549,  -6.7558,  -7.8992,  -1.6711, -11.4184,   6.1559,\n",
      "          -0.3363,   8.4300,   3.7839, -10.6235],\n",
      "        [ -2.2844,   2.8813,  -5.6253,  -5.1109, -14.4275,   4.3279,\n",
      "           1.6033,  14.2737,   6.9122,   2.9455],\n",
      "        [-11.4353,  10.1494,  -9.9646,   2.4560, -10.1668,   6.5497,\n",
      "           9.8034,  26.7614,   2.5121,  -0.1028],\n",
      "        [ -9.5479,   2.2286,  -1.8973,  -3.8822, -12.2938,   6.2925,\n",
      "          -4.1935,   6.4858,  -2.6077,  -8.2589],\n",
      "        [-12.8862,   2.8645,  -2.7979,  -3.7508,  -7.7851,   7.7881,\n",
      "           5.0423,   8.2913,  -4.4241,  -3.4473],\n",
      "        [-16.0413,   7.6482, -10.1275,   4.0796,  -5.2887,  13.0454,\n",
      "           4.8790,   9.8732,  -3.5310,  -3.0100],\n",
      "        [-11.5293,   0.1881,  -4.3064,  -6.5420, -14.4983,   0.1266,\n",
      "           5.6649,   1.9013, -10.3883,  -7.0184],\n",
      "        [-15.6643,  -2.6300,  -5.1405,   0.3314, -12.5796,   0.9977,\n",
      "           7.8672,  12.1299,  -9.6872,  -8.7525],\n",
      "        [-13.2141,   8.5977,   2.0517,   6.7168,  -9.5548,  21.2507,\n",
      "           7.2656,  14.3438,  -2.6521,   6.6575],\n",
      "        [ -9.2145,   2.2346,  -0.4516,  -4.1167, -13.2208,   8.6834,\n",
      "          -6.6710,  13.5222,   2.8088,  -5.7792],\n",
      "        [ -9.1175,   0.1476,  -0.8721,  -5.7695, -13.7396,   8.5290,\n",
      "          -3.8289,  14.2005,  -0.7053,  -5.6899],\n",
      "        [ -9.6449,  -3.6932,  -9.6130,  -5.3661, -10.9240,   3.5052,\n",
      "          -3.9355,  24.1724,   0.8093,  -7.9119],\n",
      "        [-12.3307,   9.4256,  -8.2529,   0.5498, -15.1656,   7.4179,\n",
      "           8.3460,  14.0689,  -6.6845,  -5.8827],\n",
      "        [-28.7734,  -7.9030, -14.5000,  -1.0952,  -5.4252,   2.8874,\n",
      "          12.1261,  23.9227, -12.4405, -13.4008],\n",
      "        [-10.7746,   4.3903, -13.8347, -12.1710,  -6.4369,   9.0385,\n",
      "          -4.3568,   7.1504,  -7.1057,  -2.7288],\n",
      "        [-15.0471,  -6.7887,  -4.5692,  -1.2691, -16.4794,   6.6231,\n",
      "           1.5204,  13.2881,  -9.8691,  -9.9184],\n",
      "        [-21.2655,  -3.7085,  -6.1528,   2.3556,  -8.6491,   8.9427,\n",
      "          -2.4823,   5.9976,  -7.3748, -12.1446],\n",
      "        [-11.8380,   5.9821,   4.4215,  -0.7018, -11.2521,  11.6140,\n",
      "          15.5772,   5.8150, -13.6674, -11.6654],\n",
      "        [ -6.6834,  -2.0591,  -9.0990,   1.2580, -19.7428,   9.6838,\n",
      "          -6.1636,  11.0344, -13.6043,  -8.4399],\n",
      "        [ -8.9695,  -1.2758,  -7.3887,  -2.5195, -15.0816,   8.9523,\n",
      "          -7.0558,  26.8880, -10.2741, -10.6233],\n",
      "        [ -3.7996,  -0.9321,  -2.6770,  -3.8578, -13.2861,   2.5305,\n",
      "           0.6554,  13.3363,   6.0079,   1.1408],\n",
      "        [-11.5004,  -0.8649,   0.1271,   3.6282, -19.4271,   5.3310,\n",
      "          -4.3356,   3.1598,  -7.8261,  -4.2986],\n",
      "        [-27.7050,  17.1086,  -2.4574,  -5.0908,  -5.6624,   5.1238,\n",
      "           1.4307,  10.1378,  -1.1865, -22.6446],\n",
      "        [ -7.0548,   2.8411,   2.6425,   0.8562, -10.9459,  13.1146,\n",
      "           3.2300,  19.0449,   3.1755,  -0.6245],\n",
      "        [ -3.0363,  -0.9864,  -4.4975,  -9.4714, -10.0232,   5.3497,\n",
      "          -4.3127,   3.3175,   2.6903,  -8.9685],\n",
      "        [-10.3501, -10.0120,  -3.8916,  -6.2188,  -4.0241,   9.9630,\n",
      "           3.2557,  13.8791,  -5.7712,  -9.4677],\n",
      "        [ -8.4238,   6.0492,  -7.6849,   0.4803,  -4.3363,   9.8870,\n",
      "           3.5548,  18.0992,  -7.0409,  -7.3174],\n",
      "        [-10.8302,   0.6896, -12.1884,   0.5946, -13.4934,  10.6904,\n",
      "          12.2152,  12.0727,  -0.6326,  -4.7918],\n",
      "        [ -8.5756,   2.6170,   2.9276,  -8.7935,  -8.4061,  14.4445,\n",
      "           5.9129,  13.0553,  -5.3773,  -2.3318],\n",
      "        [ -8.2663,   8.5827,  -8.3511,  -3.5521,   0.0366,   4.9707,\n",
      "          14.8782,  18.9695,  -9.2828,  -7.1187],\n",
      "        [-11.3572,   5.2524, -13.9533,  -4.8295, -15.1977,   1.0568,\n",
      "           3.9869,   3.0316, -16.0284,  -0.9691],\n",
      "        [-18.4109,  -5.5656,  -3.6072,  -7.8751, -14.5661,  -3.8126,\n",
      "          -0.2791,   7.0862,  -4.9732,  -7.7958],\n",
      "        [-25.4798,  -5.0715,  -7.9581,  -1.8424, -21.7203,   0.8934,\n",
      "           3.5908,  15.5219,  -4.4115,  -4.6021],\n",
      "        [-12.5341,   8.1191,  -6.8084, -11.8584,  -4.4316,   4.8416,\n",
      "           5.2283,   9.2430,   1.7995, -14.2146],\n",
      "        [-15.3835,  -5.9464,  -0.0099,   5.1332,  -3.3887,   5.0831,\n",
      "           1.8868,  10.0251,  -5.8961,  -3.4881],\n",
      "        [-14.4101,   0.7571,  -8.2724,  -0.5551,  -8.3947,   9.3570,\n",
      "          -5.3274,  12.8397,  -1.7903,  -2.5699],\n",
      "        [-16.9240,  -1.6321,  -6.5176,  -2.2056,  -8.3701,  10.8330,\n",
      "          -5.3606,  17.5508,  -1.4033, -12.7076],\n",
      "        [-11.5782,  -2.1775, -17.8071,  -6.8782, -12.8639,   5.2744,\n",
      "           2.2008,  17.9629,  -4.2075, -17.3495],\n",
      "        [ -5.4903,   2.1671,   0.5213,  -4.2428, -11.1548,   8.4503,\n",
      "           1.7437,   7.8523,  -3.6818,  -4.4143],\n",
      "        [-13.5425,  -1.9596,  -8.5158,   1.9413, -12.1187,   3.9008,\n",
      "           4.0464,  10.2011,  -7.0431,  -7.9976],\n",
      "        [-13.5569,   5.7814,  -4.6717,   5.7597,  -1.2687,  16.1631,\n",
      "           6.2915,  10.6885,   7.1928,   2.0702]])\n"
     ]
    }
   ],
   "source": [
    "## Your solution\n",
    "\n",
    "def activation(X):\n",
    "    return 1/(1+torch.exp(-X))\n",
    "input_images_flattened = images.view(images.shape[0], -1)\n",
    "W1 = torch.randn(784,256)\n",
    "b1 = torch.randn(256)\n",
    "W2 = torch.randn(256,10)\n",
    "b2 = torch.randn(10)\n",
    "hidden_layer = activation(torch.mm(input_images_flattened, W1)+b1)\n",
    "out = (torch.mm(hidden_layer, W2)+b2)# output of your network, should have shape (64,10)\n",
    "print(out)"
   ]
  },
  {
   "cell_type": "markdown",
   "metadata": {},
   "source": [
    "Now we have 10 outputs for our network. We want to pass in an image to our network and get out a probability distribution over the classes that tells us the likely class(es) the image belongs to. Something that looks like this:\n",
    "<img src='assets/image_distribution.png' width=500px>\n",
    "\n",
    "Here we see that the probability for each class is roughly the same. This is representing an untrained network, it hasn't seen any data yet so it just returns a uniform distribution with equal probabilities for each class.\n",
    "\n",
    "To calculate this probability distribution, we often use the [**softmax** function](https://en.wikipedia.org/wiki/Softmax_function). Mathematically this looks like\n",
    "\n",
    "$$\n",
    "\\Large \\sigma(x_i) = \\cfrac{e^{x_i}}{\\sum_k^K{e^{x_k}}}\n",
    "$$\n",
    "\n",
    "What this does is squish each input $x_i$ between 0 and 1 and normalizes the values to give you a proper probability distribution where the probabilites sum up to one.\n",
    "\n",
    "> **Exercise:** Implement a function `softmax` that performs the softmax calculation and returns probability distributions for each example in the batch. Note that you'll need to pay attention to the shapes when doing this. If you have a tensor `a` with shape `(64, 10)` and a tensor `b` with shape `(64,)`, doing `a/b` will give you an error because PyTorch will try to do the division across the columns (called broadcasting) but you'll get a size mismatch. The way to think about this is for each of the 64 examples, you only want to divide by one value, the sum in the denominator. So you need `b` to have a shape of `(64, 1)`. This way PyTorch will divide the 10 values in each row of `a` by the one value in each row of `b`. Pay attention to how you take the sum as well. You'll need to define the `dim` keyword in `torch.sum`. Setting `dim=0` takes the sum across the rows while `dim=1` takes the sum across the columns."
   ]
  },
  {
   "cell_type": "code",
   "execution_count": 43,
   "metadata": {},
   "outputs": [
    {
     "name": "stdout",
     "output_type": "stream",
     "text": [
      "torch.Size([64, 10])\n",
      "tensor([ 1.0000,  1.0000,  1.0000,  1.0000,  1.0000,  1.0000,  1.0000,\n",
      "         1.0000,  1.0000,  1.0000,  1.0000,  1.0000,  1.0000,  1.0000,\n",
      "         1.0000,  1.0000,  1.0000,  1.0000,  1.0000,  1.0000,  1.0000,\n",
      "         1.0000,  1.0000,  1.0000,  1.0000,  1.0000,  1.0000,  1.0000,\n",
      "         1.0000,  1.0000,  1.0000,  1.0000,  1.0000,  1.0000,  1.0000,\n",
      "         1.0000,  1.0000,  1.0000,  1.0000,  1.0000,  1.0000,  1.0000,\n",
      "         1.0000,  1.0000,  1.0000,  1.0000,  1.0000,  1.0000,  1.0000,\n",
      "         1.0000,  1.0000,  1.0000,  1.0000,  1.0000,  1.0000,  1.0000,\n",
      "         1.0000,  1.0000,  1.0000,  1.0000,  1.0000,  1.0000,  1.0000,\n",
      "         1.0000])\n"
     ]
    }
   ],
   "source": [
    "def softmax(x):\n",
    "    ## TODO: Implement the softmax function here\n",
    "    numerator = torch.exp(x)\n",
    "    denominator = numerator.sum(dim=1).view(64,1)\n",
    "    return numerator/denominator\n",
    "\n",
    "# Here, out should be the output of the network in the previous excercise with shape (64,10)\n",
    "probabilities = softmax(out)\n",
    "\n",
    "# Does it have the right shape? Should be (64, 10)\n",
    "print(probabilities.shape)\n",
    "# Does it sum to 1?\n",
    "print(probabilities.sum(dim=1))"
   ]
  },
  {
   "cell_type": "markdown",
   "metadata": {},
   "source": [
    "## Building networks with PyTorch\n",
    "\n",
    "PyTorch provides a module `nn` that makes building networks much simpler. Here I'll show you how to build the same one as above with 784 inputs, 256 hidden units, 10 output units and a softmax output."
   ]
  },
  {
   "cell_type": "code",
   "execution_count": 44,
   "metadata": {},
   "outputs": [],
   "source": [
    "from torch import nn"
   ]
  },
  {
   "cell_type": "code",
   "execution_count": 45,
   "metadata": {},
   "outputs": [],
   "source": [
    "class Network(nn.Module):\n",
    "    def __init__(self):\n",
    "        super().__init__()\n",
    "        \n",
    "        # Inputs to hidden layer linear transformation\n",
    "        self.hidden = nn.Linear(784, 256)\n",
    "        # Output layer, 10 units - one for each digit\n",
    "        self.output = nn.Linear(256, 10)\n",
    "        \n",
    "        # Define sigmoid activation and softmax output \n",
    "        self.sigmoid = nn.Sigmoid()\n",
    "        self.softmax = nn.Softmax(dim=1)\n",
    "        \n",
    "    def forward(self, x):\n",
    "        # Pass the input tensor through each of our operations\n",
    "        x = self.hidden(x)\n",
    "        x = self.sigmoid(x)\n",
    "        x = self.output(x)\n",
    "        x = self.softmax(x)\n",
    "        \n",
    "        return x"
   ]
  },
  {
   "cell_type": "markdown",
   "metadata": {},
   "source": [
    "Let's go through this bit by bit.\n",
    "\n",
    "```python\n",
    "class Network(nn.Module):\n",
    "```\n",
    "\n",
    "Here we're inheriting from `nn.Module`. Combined with `super().__init__()` this creates a class that tracks the architecture and provides a lot of useful methods and attributes. It is mandatory to inherit from `nn.Module` when you're creating a class for your network. The name of the class itself can be anything.\n",
    "\n",
    "```python\n",
    "self.hidden = nn.Linear(784, 256)\n",
    "```\n",
    "\n",
    "This line creates a module for a linear transformation, $x\\mathbf{W} + b$, with 784 inputs and 256 outputs and assigns it to `self.hidden`. The module automatically creates the weight and bias tensors which we'll use in the `forward` method. You can access the weight and bias tensors once the network (`net`) is created with `net.hidden.weight` and `net.hidden.bias`.\n",
    "\n",
    "```python\n",
    "self.output = nn.Linear(256, 10)\n",
    "```\n",
    "\n",
    "Similarly, this creates another linear transformation with 256 inputs and 10 outputs.\n",
    "\n",
    "```python\n",
    "self.sigmoid = nn.Sigmoid()\n",
    "self.softmax = nn.Softmax(dim=1)\n",
    "```\n",
    "\n",
    "Here I defined operations for the sigmoid activation and softmax output. Setting `dim=1` in `nn.Softmax(dim=1)` calculates softmax across the columns.\n",
    "\n",
    "```python\n",
    "def forward(self, x):\n",
    "```\n",
    "\n",
    "PyTorch networks created with `nn.Module` must have a `forward` method defined. It takes in a tensor `x` and passes it through the operations you defined in the `__init__` method.\n",
    "\n",
    "```python\n",
    "x = self.hidden(x)\n",
    "x = self.sigmoid(x)\n",
    "x = self.output(x)\n",
    "x = self.softmax(x)\n",
    "```\n",
    "\n",
    "Here the input tensor `x` is passed through each operation a reassigned to `x`. We can see that the input tensor goes through the hidden layer, then a sigmoid function, then the output layer, and finally the softmax function. It doesn't matter what you name the variables here, as long as the inputs and outputs of the operations match the network architecture you want to build. The order in which you define things in the `__init__` method doesn't matter, but you'll need to sequence the operations correctly in the `forward` method.\n",
    "\n",
    "Now we can create a `Network` object."
   ]
  },
  {
   "cell_type": "code",
   "execution_count": 46,
   "metadata": {},
   "outputs": [
    {
     "data": {
      "text/plain": [
       "Network(\n",
       "  (hidden): Linear(in_features=784, out_features=256, bias=True)\n",
       "  (output): Linear(in_features=256, out_features=10, bias=True)\n",
       "  (sigmoid): Sigmoid()\n",
       "  (softmax): Softmax()\n",
       ")"
      ]
     },
     "execution_count": 46,
     "metadata": {},
     "output_type": "execute_result"
    }
   ],
   "source": [
    "# Create the network and look at it's text representation\n",
    "model = Network()\n",
    "model"
   ]
  },
  {
   "cell_type": "markdown",
   "metadata": {},
   "source": [
    "You can define the network somewhat more concisely and clearly using the `torch.nn.functional` module. This is the most common way you'll see networks defined as many operations are simple element-wise functions. We normally import this module as `F`, `import torch.nn.functional as F`."
   ]
  },
  {
   "cell_type": "code",
   "execution_count": 47,
   "metadata": {},
   "outputs": [],
   "source": [
    "import torch.nn.functional as F\n",
    "\n",
    "class Network(nn.Module):\n",
    "    def __init__(self):\n",
    "        super().__init__()\n",
    "        # Inputs to hidden layer linear transformation\n",
    "        self.hidden = nn.Linear(784, 256)\n",
    "        # Output layer, 10 units - one for each digit\n",
    "        self.output = nn.Linear(256, 10)\n",
    "        \n",
    "    def forward(self, x):\n",
    "        # Hidden layer with sigmoid activation\n",
    "        x = F.sigmoid(self.hidden(x))\n",
    "        # Output layer with softmax activation\n",
    "        x = F.softmax(self.output(x), dim=1)\n",
    "        \n",
    "        return x"
   ]
  },
  {
   "cell_type": "markdown",
   "metadata": {},
   "source": [
    "### Activation functions\n",
    "\n",
    "So far we've only been looking at the softmax activation, but in general any function can be used as an activation function. The only requirement is that for a network to approximate a non-linear function, the activation functions must be non-linear. Here are a few more examples of common activation functions: Tanh (hyperbolic tangent), and ReLU (rectified linear unit).\n",
    "\n",
    "<img src=\"assets/activation.png\" width=700px>\n",
    "\n",
    "In practice, the ReLU function is used almost exclusively as the activation function for hidden layers."
   ]
  },
  {
   "cell_type": "markdown",
   "metadata": {},
   "source": [
    "### Your Turn to Build a Network\n",
    "\n",
    "<img src=\"assets/mlp_mnist.png\" width=600px>\n",
    "\n",
    "> **Exercise:** Create a network with 784 input units, a hidden layer with 128 units and a ReLU activation, then a hidden layer with 64 units and a ReLU activation, and finally an output layer with a softmax activation as shown above. You can use a ReLU activation with the `nn.ReLU` module or `F.relu` function."
   ]
  },
  {
   "cell_type": "code",
   "execution_count": 48,
   "metadata": {
    "scrolled": true
   },
   "outputs": [
    {
     "data": {
      "text/plain": [
       "Network(\n",
       "  (hidden1): Linear(in_features=784, out_features=128, bias=True)\n",
       "  (hidden2): Linear(in_features=128, out_features=64, bias=True)\n",
       "  (output): Linear(in_features=64, out_features=10, bias=True)\n",
       ")"
      ]
     },
     "execution_count": 48,
     "metadata": {},
     "output_type": "execute_result"
    }
   ],
   "source": [
    "## Your solution here\n",
    "import torch.nn.functional as F\n",
    "class Network(nn.Module):\n",
    "    def __init__(self):\n",
    "        super().__init__()\n",
    "                # Inputs to hidden layer linear transformation\n",
    "        self.hidden1 = nn.Linear(784, 128)\n",
    "        self.hidden2 = nn.Linear(128, 64)\n",
    "        # Output layer, 10 units - one for each digit\n",
    "        self.output = nn.Linear(64, 10)\n",
    "    def forward(self, x):\n",
    "        # Hidden layer with relu activation\n",
    "        x = F.relu(self.hidden1(x))\n",
    " # Hidden layer with relu activation      \n",
    "        x = F.relu(self.hidden2(x))\n",
    "        x = F.softmax(self.output(x))\n",
    "        \n",
    "\n",
    "        return x\n",
    "model = Network()\n",
    "model"
   ]
  },
  {
   "cell_type": "markdown",
   "metadata": {},
   "source": [
    "### Initializing weights and biases\n",
    "\n",
    "The weights and such are automatically initialized for you, but it's possible to customize how they are initialized. The weights and biases are tensors attached to the layer you defined, you can get them with `model.fc1.weight` for instance."
   ]
  },
  {
   "cell_type": "code",
   "execution_count": 49,
   "metadata": {},
   "outputs": [
    {
     "name": "stdout",
     "output_type": "stream",
     "text": [
      "Parameter containing:\n",
      "tensor([[-1.5470e-03, -1.0738e-02, -3.5263e-02,  ...,  1.4912e-02,\n",
      "         -2.1977e-02,  3.0970e-02],\n",
      "        [ 2.6670e-02, -3.2117e-03,  1.3426e-02,  ...,  1.3981e-02,\n",
      "         -9.6558e-03,  1.9261e-02],\n",
      "        [-3.4452e-02,  8.8366e-04, -2.8045e-02,  ...,  1.4012e-02,\n",
      "         -1.1069e-02,  6.6735e-03],\n",
      "        ...,\n",
      "        [-2.7154e-03,  1.9747e-02,  1.1334e-02,  ..., -2.8005e-02,\n",
      "         -3.1434e-02, -2.2909e-02],\n",
      "        [-2.7061e-02, -1.4463e-02,  2.2293e-02,  ...,  1.3320e-02,\n",
      "         -2.7885e-02, -1.5257e-02],\n",
      "        [-3.7782e-03, -9.8483e-03,  1.2852e-02,  ...,  3.5514e-02,\n",
      "         -6.5879e-03,  7.2319e-03]])\n",
      "Parameter containing:\n",
      "tensor(1.00000e-02 *\n",
      "       [ 1.0042,  2.5191, -1.0394,  2.3490,  0.8595,  2.3478,  1.0718,\n",
      "         2.1242,  3.5306, -3.4537,  2.6206,  1.5086,  0.3660, -2.3075,\n",
      "         3.1127,  1.5472,  3.4394,  2.7623, -3.0823,  1.7586, -0.9030,\n",
      "         2.8652,  3.1208, -1.5298, -0.8194, -1.9324,  1.7013, -2.8151,\n",
      "         2.8296, -0.1592,  2.3639,  0.0006, -0.4973,  3.3106, -0.5771,\n",
      "         0.5915,  0.1456, -0.2038, -0.7242,  0.7648, -0.4045, -0.1568,\n",
      "        -0.0653, -1.8487,  2.5392, -3.3944,  1.9983,  2.6165, -3.3077,\n",
      "         1.8608,  2.2977, -2.9359,  1.1807,  2.3476,  2.0686, -0.4676,\n",
      "         0.4861,  0.8877,  1.9326, -1.4938,  0.7345,  2.2176,  2.4230,\n",
      "        -3.2130,  0.2767,  3.2224, -2.3474, -1.1900, -3.0744,  1.0649,\n",
      "        -1.2274,  2.8436, -0.4899,  0.1306,  1.0230, -2.7274,  1.6424,\n",
      "         0.9336, -3.3700, -1.3043, -1.5929, -2.5308, -1.4238,  3.4917,\n",
      "         3.5251,  2.7643, -2.6628, -1.7280,  0.3533,  2.4625, -1.1863,\n",
      "         0.7884,  2.3162, -3.3339,  1.1319,  0.5616, -2.8051,  0.7360,\n",
      "        -2.7061,  1.8580, -0.8457,  2.2267,  0.9224,  0.0167,  1.4920,\n",
      "        -0.7527, -2.6219, -3.5613, -2.2275, -3.3998, -1.1675,  1.7378,\n",
      "         0.6554,  2.3114,  1.2024, -0.4469, -0.0533, -1.3980, -0.3495,\n",
      "        -1.0427, -2.2663,  0.2879, -0.2728,  0.4194, -0.3689, -3.3698,\n",
      "        -1.6384, -1.3018])\n"
     ]
    }
   ],
   "source": [
    "print(model.hidden1.weight)\n",
    "print(model.hidden1.bias)"
   ]
  },
  {
   "cell_type": "markdown",
   "metadata": {},
   "source": [
    "For custom initialization, we want to modify these tensors in place. These are actually autograd *Variables*, so we need to get back the actual tensors with `model.fc1.weight.data`. Once we have the tensors, we can fill them with zeros (for biases) or random normal values."
   ]
  },
  {
   "cell_type": "code",
   "execution_count": 50,
   "metadata": {},
   "outputs": [
    {
     "data": {
      "text/plain": [
       "tensor([ 0.,  0.,  0.,  0.,  0.,  0.,  0.,  0.,  0.,  0.,  0.,  0.,\n",
       "         0.,  0.,  0.,  0.,  0.,  0.,  0.,  0.,  0.,  0.,  0.,  0.,\n",
       "         0.,  0.,  0.,  0.,  0.,  0.,  0.,  0.,  0.,  0.,  0.,  0.,\n",
       "         0.,  0.,  0.,  0.,  0.,  0.,  0.,  0.,  0.,  0.,  0.,  0.,\n",
       "         0.,  0.,  0.,  0.,  0.,  0.,  0.,  0.,  0.,  0.,  0.,  0.,\n",
       "         0.,  0.,  0.,  0.,  0.,  0.,  0.,  0.,  0.,  0.,  0.,  0.,\n",
       "         0.,  0.,  0.,  0.,  0.,  0.,  0.,  0.,  0.,  0.,  0.,  0.,\n",
       "         0.,  0.,  0.,  0.,  0.,  0.,  0.,  0.,  0.,  0.,  0.,  0.,\n",
       "         0.,  0.,  0.,  0.,  0.,  0.,  0.,  0.,  0.,  0.,  0.,  0.,\n",
       "         0.,  0.,  0.,  0.,  0.,  0.,  0.,  0.,  0.,  0.,  0.,  0.,\n",
       "         0.,  0.,  0.,  0.,  0.,  0.,  0.,  0.])"
      ]
     },
     "execution_count": 50,
     "metadata": {},
     "output_type": "execute_result"
    }
   ],
   "source": [
    "# Set biases to all zeros\n",
    "model.hidden1.bias.data.fill_(0)"
   ]
  },
  {
   "cell_type": "code",
   "execution_count": 51,
   "metadata": {},
   "outputs": [
    {
     "data": {
      "text/plain": [
       "tensor([[ 1.8135e-02,  1.3379e-02, -1.8418e-03,  ...,  2.7312e-03,\n",
       "         -1.9267e-02,  5.7857e-03],\n",
       "        [ 1.9278e-02,  1.7268e-02,  6.7368e-03,  ...,  1.3393e-03,\n",
       "         -4.7127e-03,  9.8425e-03],\n",
       "        [-8.1942e-03,  9.9703e-03, -5.2067e-03,  ..., -1.8671e-03,\n",
       "         -9.1063e-03, -5.6558e-03],\n",
       "        ...,\n",
       "        [ 5.8144e-03, -1.9164e-02,  1.4228e-02,  ..., -1.0152e-03,\n",
       "         -1.6662e-03, -1.8114e-03],\n",
       "        [ 8.0905e-03, -7.6948e-03, -1.5212e-03,  ...,  5.2646e-03,\n",
       "         -1.0833e-02,  1.1428e-02],\n",
       "        [-2.6213e-03,  1.4765e-02,  9.7321e-03,  ..., -1.5694e-02,\n",
       "          8.7887e-03, -1.7345e-02]])"
      ]
     },
     "execution_count": 51,
     "metadata": {},
     "output_type": "execute_result"
    }
   ],
   "source": [
    "# sample from random normal with standard dev = 0.01\n",
    "model.hidden1.weight.data.normal_(std=0.01)"
   ]
  },
  {
   "cell_type": "markdown",
   "metadata": {},
   "source": [
    "### Forward pass\n",
    "\n",
    "Now that we have a network, let's see what happens when we pass in an image."
   ]
  },
  {
   "cell_type": "code",
   "execution_count": 52,
   "metadata": {},
   "outputs": [
    {
     "name": "stderr",
     "output_type": "stream",
     "text": [
      "/opt/conda/lib/python3.6/site-packages/ipykernel_launcher.py:16: UserWarning: Implicit dimension choice for softmax has been deprecated. Change the call to include dim=X as an argument.\n",
      "  app.launch_new_instance()\n"
     ]
    },
    {
     "data": {
      "image/png": "[encoded data removed]",
      "text/plain": [
       "<matplotlib.figure.Figure at 0x7ffb148dbf60>"
      ]
     },
     "metadata": {
      "image/png": {
       "height": 224,
       "width": 423
      },
      "needs_background": "light"
     },
     "output_type": "display_data"
    }
   ],
   "source": [
    "# Grab some data \n",
    "dataiter = iter(trainloader)\n",
    "images, labels = dataiter.next()\n",
    "\n",
    "# Resize images into a 1D vector, new shape is (batch size, color channels, image pixels) \n",
    "images.resize_(64, 1, 784)\n",
    "# or images.resize_(images.shape[0], 1, 784) to automatically get batch size\n",
    "\n",
    "# Forward pass through the network\n",
    "img_idx = 0\n",
    "ps = model.forward(images[img_idx,:])\n",
    "\n",
    "img = images[img_idx]\n",
    "helper.view_classify(img.view(1, 28, 28), ps)"
   ]
  },
  {
   "cell_type": "markdown",
   "metadata": {},
   "source": [
    "As you can see above, our network has basically no idea what this digit is. It's because we haven't trained it yet, all the weights are random!\n",
    "\n",
    "### Using `nn.Sequential`\n",
    "\n",
    "PyTorch provides a convenient way to build networks like this where a tensor is passed sequentially through operations, `nn.Sequential` ([documentation](https://pytorch.org/docs/master/nn.html#torch.nn.Sequential)). Using this to build the equivalent network:"
   ]
  },
  {
   "cell_type": "code",
   "execution_count": 53,
   "metadata": {},
   "outputs": [
    {
     "name": "stdout",
     "output_type": "stream",
     "text": [
      "Sequential(\n",
      "  (0): Linear(in_features=784, out_features=128, bias=True)\n",
      "  (1): ReLU()\n",
      "  (2): Linear(in_features=128, out_features=64, bias=True)\n",
      "  (3): ReLU()\n",
      "  (4): Linear(in_features=64, out_features=10, bias=True)\n",
      "  (5): Softmax()\n",
      ")\n"
     ]
    },
    {
     "data": {
      "image/png": "[encoded data removed]",
      "text/plain": [
       "<matplotlib.figure.Figure at 0x7ffb1486fda0>"
      ]
     },
     "metadata": {
      "image/png": {
       "height": 224,
       "width": 423
      },
      "needs_background": "light"
     },
     "output_type": "display_data"
    }
   ],
   "source": [
    "# Hyperparameters for our network\n",
    "input_size = 784\n",
    "hidden_sizes = [128, 64]\n",
    "output_size = 10\n",
    "\n",
    "# Build a feed-forward network\n",
    "model = nn.Sequential(nn.Linear(input_size, hidden_sizes[0]),\n",
    "                      nn.ReLU(),\n",
    "                      nn.Linear(hidden_sizes[0], hidden_sizes[1]),\n",
    "                      nn.ReLU(),\n",
    "                      nn.Linear(hidden_sizes[1], output_size),\n",
    "                      nn.Softmax(dim=1))\n",
    "print(model)\n",
    "\n",
    "# Forward pass through the network and display output\n",
    "images, labels = next(iter(trainloader))\n",
    "images.resize_(images.shape[0], 1, 784)\n",
    "ps = model.forward(images[0,:])\n",
    "helper.view_classify(images[0].view(1, 28, 28), ps)"
   ]
  },
  {
   "cell_type": "markdown",
   "metadata": {},
   "source": [
    "Here our model is the same as before: 784 input units, a hidden layer with 128 units, ReLU activation, 64 unit hidden layer, another ReLU, then the output layer with 10 units, and the softmax output.\n",
    "\n",
    "The operations are availble by passing in the appropriate index. For example, if you want to get first Linear operation and look at the weights, you'd use `model[0]`."
   ]
  },
  {
   "cell_type": "code",
   "execution_count": 54,
   "metadata": {},
   "outputs": [
    {
     "name": "stdout",
     "output_type": "stream",
     "text": [
      "Linear(in_features=784, out_features=128, bias=True)\n"
     ]
    },
    {
     "data": {
      "text/plain": [
       "Parameter containing:\n",
       "tensor([[ 3.3130e-02, -2.4205e-02,  8.0402e-03,  ..., -1.4799e-02,\n",
       "         -1.4915e-02,  3.2166e-02],\n",
       "        [-3.4176e-02, -1.8837e-02,  2.9913e-02,  ...,  6.2654e-03,\n",
       "          2.3253e-02,  1.2807e-02],\n",
       "        [-1.1519e-02, -1.1070e-03,  3.5622e-02,  ..., -4.7601e-03,\n",
       "         -1.6427e-02, -1.4910e-02],\n",
       "        ...,\n",
       "        [ 2.0605e-02,  4.5218e-05, -2.8593e-02,  ...,  1.2552e-03,\n",
       "         -2.2307e-02, -2.8523e-02],\n",
       "        [ 5.2125e-03,  5.4464e-04,  2.1737e-02,  ..., -6.9007e-04,\n",
       "         -2.5732e-02,  2.8585e-02],\n",
       "        [ 1.0428e-02, -3.4901e-03,  1.3044e-02,  ...,  2.8661e-03,\n",
       "         -2.7243e-02,  2.8749e-02]])"
      ]
     },
     "execution_count": 54,
     "metadata": {},
     "output_type": "execute_result"
    }
   ],
   "source": [
    "print(model[0])\n",
    "model[0].weight"
   ]
  },
  {
   "cell_type": "markdown",
   "metadata": {},
   "source": [
    "You can also pass in an `OrderedDict` to name the individual layers and operations, instead of using incremental integers. Note that dictionary keys must be unique, so _each operation must have a different name_."
   ]
  },
  {
   "cell_type": "code",
   "execution_count": 55,
   "metadata": {},
   "outputs": [
    {
     "data": {
      "text/plain": [
       "Sequential(\n",
       "  (fc1): Linear(in_features=784, out_features=128, bias=True)\n",
       "  (relu1): ReLU()\n",
       "  (fc2): Linear(in_features=128, out_features=64, bias=True)\n",
       "  (relu2): ReLU()\n",
       "  (output): Linear(in_features=64, out_features=10, bias=True)\n",
       "  (softmax): Softmax()\n",
       ")"
      ]
     },
     "execution_count": 55,
     "metadata": {},
     "output_type": "execute_result"
    }
   ],
   "source": [
    "from collections import OrderedDict\n",
    "model = nn.Sequential(OrderedDict([\n",
    "                      ('fc1', nn.Linear(input_size, hidden_sizes[0])),\n",
    "                      ('relu1', nn.ReLU()),\n",
    "                      ('fc2', nn.Linear(hidden_sizes[0], hidden_sizes[1])),\n",
    "                      ('relu2', nn.ReLU()),\n",
    "                      ('output', nn.Linear(hidden_sizes[1], output_size)),\n",
    "                      ('softmax', nn.Softmax(dim=1))]))\n",
    "model"
   ]
  },
  {
   "cell_type": "markdown",
   "metadata": {},
   "source": [
    "Now you can access layers either by integer or the name"
   ]
  },
  {
   "cell_type": "code",
   "execution_count": 56,
   "metadata": {},
   "outputs": [
    {
     "name": "stdout",
     "output_type": "stream",
     "text": [
      "Linear(in_features=784, out_features=128, bias=True)\n",
      "Linear(in_features=784, out_features=128, bias=True)\n"
     ]
    }
   ],
   "source": [
    "print(model[0])\n",
    "print(model.fc1)"
   ]
  },
  {
   "cell_type": "markdown",
   "metadata": {},
   "source": [
    "In the next notebook, we'll see how we can train a neural network to accuractly predict the numbers appearing in the MNIST images."
   ]
  }
 ],
 "metadata": {
  "kernelspec": {
   "display_name": "Python 3",
   "language": "python",
   "name": "python3"
  },
  "language_info": {
   "codemirror_mode": {
    "name": "ipython",
    "version": 3
   },
   "file_extension": ".py",
   "mimetype": "text/x-python",
   "name": "python",
   "nbconvert_exporter": "python",
   "pygments_lexer": "ipython3",
   "version": "3.6.3"
  }
 },
 "nbformat": 4,
 "nbformat_minor": 2
}
